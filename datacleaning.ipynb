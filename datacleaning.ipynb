{
 "cells": [
  {
   "cell_type": "code",
   "execution_count": 1,
   "id": "e54eb5d5-6bc1-4f4c-9af3-9f0271dddc3e",
   "metadata": {},
   "outputs": [],
   "source": [
    "import re\n",
    "text = \"\"\"\n",
    "Hey! Contact me at person@example.com.  \n",
    "The event was on 04/07/2025, and another one on July 4, 2025. \n",
    "Visit for more info... \n",
    "We also met on 2025-07-04. \n",
    "Call me!!!    Or not... 😅😅   \n",
    "\"\"\""
   ]
  },
  {
   "cell_type": "code",
   "execution_count": 2,
   "id": "8451f8fa-9468-43d8-8f4a-a09687b7ae91",
   "metadata": {},
   "outputs": [
    {
     "name": "stdout",
     "output_type": "stream",
     "text": [
      "\n",
      "Hey! Contact me at person@example.com.  \n",
      "The event was on 04/07/2025, and another one on July 4, 2025. \n",
      "Visit for more info... \n",
      "We also met on 2025-07-04. \n",
      "Call me!!!    Or not... 😅😅   \n",
      "\n"
     ]
    }
   ],
   "source": [
    "print(text)"
   ]
  },
  {
   "cell_type": "code",
   "execution_count": 3,
   "id": "4eedf9e2-28aa-4c65-9941-23453098134f",
   "metadata": {},
   "outputs": [],
   "source": [
    "text = re.sub(r'\\b(?:\\d{1,2}/\\d{1,2}/\\d{4}|[A-Za-z]+ \\d{1,2}, \\d{4}|\\d{4}-\\d{2}-\\d{2})\\b', '', text)"
   ]
  },
  {
   "cell_type": "code",
   "execution_count": 4,
   "id": "d83209fa-a418-40eb-a092-13a2bd71edd0",
   "metadata": {},
   "outputs": [
    {
     "name": "stdout",
     "output_type": "stream",
     "text": [
      "\n",
      "Hey! Contact me at person@example.com.  \n",
      "The event was on , and another one on . \n",
      "Visit for more info... \n",
      "We also met on . \n",
      "Call me!!!    Or not... 😅😅   \n",
      "\n"
     ]
    }
   ],
   "source": [
    "print(text)"
   ]
  },
  {
   "cell_type": "code",
   "execution_count": 5,
   "id": "2122f08c-69b6-49ac-87c6-b972bce5a933",
   "metadata": {},
   "outputs": [],
   "source": [
    "text = re.sub(r'\\b[\\w\\.-]+@[\\w\\.-]+\\.\\w+\\b', '', text)"
   ]
  },
  {
   "cell_type": "code",
   "execution_count": 6,
   "id": "f631e3f9-e75c-4786-8a71-8d2a9ac81dc6",
   "metadata": {},
   "outputs": [
    {
     "name": "stdout",
     "output_type": "stream",
     "text": [
      "\n",
      "Hey! Contact me at .  \n",
      "The event was on , and another one on . \n",
      "Visit for more info... \n",
      "We also met on . \n",
      "Call me!!!    Or not... 😅😅   \n",
      "\n"
     ]
    }
   ],
   "source": [
    "print(text)"
   ]
  },
  {
   "cell_type": "code",
   "execution_count": 7,
   "id": "1e45996b-72d8-49b4-98e7-0fec5b37042e",
   "metadata": {},
   "outputs": [],
   "source": [
    "text = re.sub(r'\\s+', ' ', text)"
   ]
  },
  {
   "cell_type": "code",
   "execution_count": 8,
   "id": "08bbe29f-c4a3-452a-a51c-4859bd1a104a",
   "metadata": {},
   "outputs": [
    {
     "name": "stdout",
     "output_type": "stream",
     "text": [
      " Hey! Contact me at . The event was on , and another one on . Visit for more info... We also met on . Call me!!! Or not... 😅😅 \n"
     ]
    }
   ],
   "source": [
    "print(text)"
   ]
  },
  {
   "cell_type": "code",
   "execution_count": 9,
   "id": "1996b7da-f172-4816-8669-e39236bfd883",
   "metadata": {},
   "outputs": [],
   "source": [
    "text = re.sub(r'[^\\x00-\\x7F]+', '', text)"
   ]
  },
  {
   "cell_type": "code",
   "execution_count": 10,
   "id": "c04efcec-e5e7-4837-a43a-1cd71d85dc5b",
   "metadata": {},
   "outputs": [
    {
     "name": "stdout",
     "output_type": "stream",
     "text": [
      " Hey! Contact me at . The event was on , and another one on . Visit for more info... We also met on . Call me!!! Or not...  \n"
     ]
    }
   ],
   "source": [
    "print(text)"
   ]
  },
  {
   "cell_type": "code",
   "execution_count": 11,
   "id": "7ca67f38-eb5b-4401-9777-11e499df2ed4",
   "metadata": {},
   "outputs": [],
   "source": [
    "text = re.sub(r'([.!?,])\\1+', r'\\1', text)"
   ]
  },
  {
   "cell_type": "code",
   "execution_count": 12,
   "id": "252bde62-60ca-4a3a-81ba-53741c547bd7",
   "metadata": {},
   "outputs": [
    {
     "name": "stdout",
     "output_type": "stream",
     "text": [
      " Hey! Contact me at . The event was on , and another one on . Visit for more info. We also met on . Call me! Or not.  \n"
     ]
    }
   ],
   "source": [
    "print(text)"
   ]
  },
  {
   "cell_type": "code",
   "execution_count": null,
   "id": "7e1b02ab-e768-48a7-97df-4e0869c1c821",
   "metadata": {},
   "outputs": [],
   "source": []
  }
 ],
 "metadata": {
  "kernelspec": {
   "display_name": "Python 3 (ipykernel)",
   "language": "python",
   "name": "python3"
  },
  "language_info": {
   "codemirror_mode": {
    "name": "ipython",
    "version": 3
   },
   "file_extension": ".py",
   "mimetype": "text/x-python",
   "name": "python",
   "nbconvert_exporter": "python",
   "pygments_lexer": "ipython3",
   "version": "3.13.4"
  }
 },
 "nbformat": 4,
 "nbformat_minor": 5
}
